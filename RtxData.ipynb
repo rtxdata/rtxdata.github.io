{
 "cells": [
  {
   "cell_type": "code",
   "execution_count": null,
   "metadata": {
    "scrolled": true
   },
   "outputs": [],
   "source": [
    "from utils import dashboard, get_queries, query\n",
    "\n",
    "# Строим дашборд по dashboard.sql, можно добавлять SQL запросы\n",
    "dashboard([\n",
    "    # \"SELECT * FROM TX LIMIT 3\",\n",
    "    'По категориям',\n",
    "    'Интернет',\n",
    "    # 'Траты',\n",
    "    # 'Транзакций в день',\n",
    "    # 'Динарных транзакций в день',\n",
    "    'Не динарных транзакций в день',\n",
    "    # 'Макдак с Июня',\n",
    "    'Топ 5 трат',\n",
    "    # 'Зарплата в евро',\n",
    "    # 'Траты по валютам'\n",
    "])\n",
    "\n",
    "# Посмотреть названия из dashboard.sql\n",
    "names = get_queries().keys()\n",
    "\n",
    "# Получить датафрейм\n",
    "pandas_dataframe = query(\"SELECT * FROM RaiffTxns LIMIT 3\")"
   ]
  },
  {
   "cell_type": "code",
   "execution_count": null,
   "metadata": {},
   "outputs": [],
   "source": [
    "from utils import dashboard\n",
    "dashboard([\"SELECT ref, ABS(rsum) FROM Pos LIMIT 3\"])"
   ]
  }
 ],
 "metadata": {
  "kernelspec": {
   "display_name": "Python 3 (ipykernel)",
   "language": "python",
   "name": "python3"
  },
  "language_info": {
   "codemirror_mode": {
    "name": "ipython",
    "version": 3
   },
   "file_extension": ".py",
   "mimetype": "text/x-python",
   "name": "python",
   "nbconvert_exporter": "python",
   "pygments_lexer": "ipython3",
   "version": "3.9.18"
  }
 },
 "nbformat": 4,
 "nbformat_minor": 4
}
